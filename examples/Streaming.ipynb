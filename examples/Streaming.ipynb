{
 "cells": [
  {
   "cell_type": "markdown",
   "id": "f7b949b7-2818-45fa-bb1a-5d1d4e99a403",
   "metadata": {},
   "source": [
    "# Streaming datagrid\n",
    "\n",
    "ipydatagrid provides the ability to lazily request data to the back-end. This requires a live kernel (does not work with a notebook exported to static HTML with nbconvert)."
   ]
  },
  {
   "cell_type": "code",
   "execution_count": null,
   "id": "c6d44983-b311-46d3-8bf4-951dc163574e",
   "metadata": {},
   "outputs": [],
   "source": [
    "from ipydatagrid import DataGrid, StreamingDataGrid, TextRenderer, BarRenderer, Expr, ImageRenderer\n",
    "import pandas as pd\n",
    "import numpy as np\n",
    "\n",
    "\n",
    "def renderer_function(cell, default_value):\n",
    "    return \"#fc8403\" if cell.value < SQRT1_2 else default_value\n",
    "\n",
    "\n",
    "conditional_expression = Expr(renderer_function)\n",
    "\n",
    "default_renderer = TextRenderer(background_color=conditional_expression)\n",
    "\n",
    "streaming_datagrid = StreamingDataGrid(pd.DataFrame(np.random.randn(1000, 1000)), default_renderer=default_renderer)\n",
    "streaming_datagrid"
   ]
  },
  {
   "cell_type": "code",
   "execution_count": null,
   "id": "23bccb80-e366-403c-ba32-326c468f40dc",
   "metadata": {},
   "outputs": [],
   "source": []
  }
 ],
 "metadata": {
  "kernelspec": {
   "display_name": "Python 3 (ipykernel)",
   "language": "python",
   "name": "python3"
  },
  "language_info": {
   "codemirror_mode": {
    "name": "ipython",
    "version": 3
   },
   "file_extension": ".py",
   "mimetype": "text/x-python",
   "name": "python",
   "nbconvert_exporter": "python",
   "pygments_lexer": "ipython3",
   "version": "3.12.2"
  }
 },
 "nbformat": 4,
 "nbformat_minor": 5
}
